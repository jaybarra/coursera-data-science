{
 "cells": [
  {
   "cell_type": "markdown",
   "id": "002d48b8-3016-4aa4-a10b-492cdace36c1",
   "metadata": {},
   "source": [
    "# Data Science Tools and Ecosystem"
   ]
  },
  {
   "cell_type": "code",
   "execution_count": null,
   "id": "417d0d0a-e210-4b80-a231-1578159db3f4",
   "metadata": {},
   "outputs": [],
   "source": []
  },
  {
   "cell_type": "markdown",
   "id": "8a22001e-f58e-430c-8d16-11cab488fe70",
   "metadata": {},
   "source": [
    "In this notebook, Data Science Tools  and Ecosystem are summarized."
   ]
  },
  {
   "cell_type": "markdown",
   "id": "7f8b763c-d938-4fdd-8927-a318517bf0ec",
   "metadata": {},
   "source": [
    "The objectives of this notebook are to demonstrate knowldge of some of the ecosystem of Data Science and to show some experienced with the Jupyter Lab software.\n"
   ]
  },
  {
   "cell_type": "markdown",
   "id": "f3ad029f-da00-4974-8dd1-cdf7559fb9c4",
   "metadata": {},
   "source": [
    "Some popular langues that Data Sciencentists use are:\n",
    "1. Python\n",
    "2. Julia\n",
    "3. R"
   ]
  },
  {
   "cell_type": "markdown",
   "id": "4c95e100-a687-442c-ba01-3dc966e03ac1",
   "metadata": {},
   "source": [
    "Some of the commonly used libraries for Data Science are:\n",
    "1. NumPy - python\n",
    "2. Pandas - Python\n",
    "3. dpylr - R\n",
    "4. ggplot2 - R\n",
    "5. DataFrames.jl - Julia"
   ]
  },
  {
   "cell_type": "markdown",
   "id": "120df1ea-a852-4151-94d7-476c56d44ee7",
   "metadata": {},
   "source": [
    "|DS Tools|\n",
    "|----------|\n",
    "| Jupyter Lab | \n",
    "| R Studio | \n",
    "| GitHub |"
   ]
  },
  {
   "cell_type": "markdown",
   "id": "60138e44-02f4-44ec-86c7-5398a7424104",
   "metadata": {},
   "source": [
    "### Evaluating arithmetic expressions in Python"
   ]
  },
  {
   "cell_type": "code",
   "execution_count": 3,
   "id": "6d2fa7a9-727d-4da1-a6c7-8877b3e86c1d",
   "metadata": {},
   "outputs": [
    {
     "data": {
      "text/plain": [
       "17"
      ]
     },
     "execution_count": 3,
     "metadata": {},
     "output_type": "execute_result"
    }
   ],
   "source": [
    "# This is a simple expression\n",
    "( 3 * 4 ) + 5"
   ]
  },
  {
   "cell_type": "code",
   "execution_count": 5,
   "id": "b2ddebba-e8cb-4907-99fb-2c7725e6fd3e",
   "metadata": {},
   "outputs": [
    {
     "name": "stdout",
     "output_type": "stream",
     "text": [
      "3 hours and 20 minutes\n"
     ]
    }
   ],
   "source": [
    "# This converts hours to minutes\n",
    "minutes = 200\n",
    "hours = minutes // 60\n",
    "rem_minutes = minutes % 60\n",
    "\n",
    "if rem_minutes > 0:\n",
    "    print(f\"{hours} hours and {rem_minutes} minutes\")\n",
    "else:\n",
    "    print(f\"{hours} hours exactly\")"
   ]
  },
  {
   "cell_type": "markdown",
   "id": "f4fffd4a-5450-4865-8f6a-5443ab1856f7",
   "metadata": {},
   "source": []
  }
 ],
 "metadata": {
  "kernelspec": {
   "display_name": "coursera-venv",
   "language": "python",
   "name": "coursera-venv"
  },
  "language_info": {
   "codemirror_mode": {
    "name": "ipython",
    "version": 3
   },
   "file_extension": ".py",
   "mimetype": "text/x-python",
   "name": "python",
   "nbconvert_exporter": "python",
   "pygments_lexer": "ipython3",
   "version": "3.12.3"
  }
 },
 "nbformat": 4,
 "nbformat_minor": 5
}
